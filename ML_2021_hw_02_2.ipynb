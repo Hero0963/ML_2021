{
  "nbformat": 4,
  "nbformat_minor": 0,
  "metadata": {
    "colab": {
      "provenance": [],
      "collapsed_sections": [],
      "authorship_tag": "ABX9TyObk28TnhZCPBqoMsedfEW2",
      "include_colab_link": true
    },
    "kernelspec": {
      "name": "python3",
      "display_name": "Python 3"
    },
    "language_info": {
      "name": "python"
    }
  },
  "cells": [
    {
      "cell_type": "markdown",
      "metadata": {
        "id": "view-in-github",
        "colab_type": "text"
      },
      "source": [
        "<a href=\"https://colab.research.google.com/github/Hero0963/ML_2021/blob/main/ML_2021_hw_02_2.ipynb\" target=\"_parent\"><img src=\"https://colab.research.google.com/assets/colab-badge.svg\" alt=\"Open In Colab\"/></a>"
      ]
    },
    {
      "cell_type": "code",
      "source": [
        "student_id = 'hero0963' # fill with your student ID\n",
        "\n",
        "# assert student_id != 'your_student_id', 'Please fill in your student_id before you start.'"
      ],
      "metadata": {
        "id": "uBqurMqscTp3"
      },
      "execution_count": null,
      "outputs": []
    },
    {
      "cell_type": "code",
      "execution_count": null,
      "metadata": {
        "colab": {
          "base_uri": "https://localhost:8080/"
        },
        "id": "tNQqusD_bIQk",
        "outputId": "b20618ce-b393-4f12-9e5e-97283842f926"
      },
      "outputs": [
        {
          "output_type": "stream",
          "name": "stdout",
          "text": [
            "Looking in indexes: https://pypi.org/simple, https://us-python.pkg.dev/colab-wheels/public/simple/\n",
            "Requirement already satisfied: autograd-lib in /usr/local/lib/python3.7/dist-packages (0.0.7)\n",
            "Requirement already satisfied: seaborn in /usr/local/lib/python3.7/dist-packages (from autograd-lib) (0.11.2)\n",
            "Requirement already satisfied: gin-config in /usr/local/lib/python3.7/dist-packages (from autograd-lib) (0.5.0)\n",
            "Requirement already satisfied: pytorch-lightning in /usr/local/lib/python3.7/dist-packages (from autograd-lib) (1.7.6)\n",
            "Requirement already satisfied: torchmetrics>=0.7.0 in /usr/local/lib/python3.7/dist-packages (from pytorch-lightning->autograd-lib) (0.9.3)\n",
            "Requirement already satisfied: fsspec[http]!=2021.06.0,>=2021.05.0 in /usr/local/lib/python3.7/dist-packages (from pytorch-lightning->autograd-lib) (2022.8.2)\n",
            "Requirement already satisfied: tqdm>=4.57.0 in /usr/local/lib/python3.7/dist-packages (from pytorch-lightning->autograd-lib) (4.64.1)\n",
            "Requirement already satisfied: tensorboard>=2.9.1 in /usr/local/lib/python3.7/dist-packages (from pytorch-lightning->autograd-lib) (2.10.0)\n",
            "Requirement already satisfied: numpy>=1.17.2 in /usr/local/lib/python3.7/dist-packages (from pytorch-lightning->autograd-lib) (1.21.6)\n",
            "Requirement already satisfied: pyDeprecate>=0.3.1 in /usr/local/lib/python3.7/dist-packages (from pytorch-lightning->autograd-lib) (0.3.2)\n",
            "Requirement already satisfied: typing-extensions>=4.0.0 in /usr/local/lib/python3.7/dist-packages (from pytorch-lightning->autograd-lib) (4.1.1)\n",
            "Requirement already satisfied: torch>=1.9.* in /usr/local/lib/python3.7/dist-packages (from pytorch-lightning->autograd-lib) (1.12.1+cu113)\n",
            "Requirement already satisfied: PyYAML>=5.4 in /usr/local/lib/python3.7/dist-packages (from pytorch-lightning->autograd-lib) (6.0)\n",
            "Requirement already satisfied: packaging>=17.0 in /usr/local/lib/python3.7/dist-packages (from pytorch-lightning->autograd-lib) (21.3)\n",
            "Requirement already satisfied: aiohttp!=4.0.0a0,!=4.0.0a1 in /usr/local/lib/python3.7/dist-packages (from fsspec[http]!=2021.06.0,>=2021.05.0->pytorch-lightning->autograd-lib) (3.8.1)\n",
            "Requirement already satisfied: requests in /usr/local/lib/python3.7/dist-packages (from fsspec[http]!=2021.06.0,>=2021.05.0->pytorch-lightning->autograd-lib) (2.23.0)\n",
            "Requirement already satisfied: multidict<7.0,>=4.5 in /usr/local/lib/python3.7/dist-packages (from aiohttp!=4.0.0a0,!=4.0.0a1->fsspec[http]!=2021.06.0,>=2021.05.0->pytorch-lightning->autograd-lib) (6.0.2)\n",
            "Requirement already satisfied: charset-normalizer<3.0,>=2.0 in /usr/local/lib/python3.7/dist-packages (from aiohttp!=4.0.0a0,!=4.0.0a1->fsspec[http]!=2021.06.0,>=2021.05.0->pytorch-lightning->autograd-lib) (2.1.1)\n",
            "Requirement already satisfied: yarl<2.0,>=1.0 in /usr/local/lib/python3.7/dist-packages (from aiohttp!=4.0.0a0,!=4.0.0a1->fsspec[http]!=2021.06.0,>=2021.05.0->pytorch-lightning->autograd-lib) (1.8.1)\n",
            "Requirement already satisfied: asynctest==0.13.0 in /usr/local/lib/python3.7/dist-packages (from aiohttp!=4.0.0a0,!=4.0.0a1->fsspec[http]!=2021.06.0,>=2021.05.0->pytorch-lightning->autograd-lib) (0.13.0)\n",
            "Requirement already satisfied: async-timeout<5.0,>=4.0.0a3 in /usr/local/lib/python3.7/dist-packages (from aiohttp!=4.0.0a0,!=4.0.0a1->fsspec[http]!=2021.06.0,>=2021.05.0->pytorch-lightning->autograd-lib) (4.0.2)\n",
            "Requirement already satisfied: attrs>=17.3.0 in /usr/local/lib/python3.7/dist-packages (from aiohttp!=4.0.0a0,!=4.0.0a1->fsspec[http]!=2021.06.0,>=2021.05.0->pytorch-lightning->autograd-lib) (22.1.0)\n",
            "Requirement already satisfied: frozenlist>=1.1.1 in /usr/local/lib/python3.7/dist-packages (from aiohttp!=4.0.0a0,!=4.0.0a1->fsspec[http]!=2021.06.0,>=2021.05.0->pytorch-lightning->autograd-lib) (1.3.1)\n",
            "Requirement already satisfied: aiosignal>=1.1.2 in /usr/local/lib/python3.7/dist-packages (from aiohttp!=4.0.0a0,!=4.0.0a1->fsspec[http]!=2021.06.0,>=2021.05.0->pytorch-lightning->autograd-lib) (1.2.0)\n",
            "Requirement already satisfied: pyparsing!=3.0.5,>=2.0.2 in /usr/local/lib/python3.7/dist-packages (from packaging>=17.0->pytorch-lightning->autograd-lib) (3.0.9)\n",
            "Requirement already satisfied: grpcio>=1.24.3 in /usr/local/lib/python3.7/dist-packages (from tensorboard>=2.9.1->pytorch-lightning->autograd-lib) (1.48.1)\n",
            "Requirement already satisfied: tensorboard-data-server<0.7.0,>=0.6.0 in /usr/local/lib/python3.7/dist-packages (from tensorboard>=2.9.1->pytorch-lightning->autograd-lib) (0.6.1)\n",
            "Requirement already satisfied: google-auth<3,>=1.6.3 in /usr/local/lib/python3.7/dist-packages (from tensorboard>=2.9.1->pytorch-lightning->autograd-lib) (1.35.0)\n",
            "Requirement already satisfied: wheel>=0.26 in /usr/local/lib/python3.7/dist-packages (from tensorboard>=2.9.1->pytorch-lightning->autograd-lib) (0.37.1)\n",
            "Requirement already satisfied: protobuf<3.20,>=3.9.2 in /usr/local/lib/python3.7/dist-packages (from tensorboard>=2.9.1->pytorch-lightning->autograd-lib) (3.17.3)\n",
            "Requirement already satisfied: google-auth-oauthlib<0.5,>=0.4.1 in /usr/local/lib/python3.7/dist-packages (from tensorboard>=2.9.1->pytorch-lightning->autograd-lib) (0.4.6)\n",
            "Requirement already satisfied: tensorboard-plugin-wit>=1.6.0 in /usr/local/lib/python3.7/dist-packages (from tensorboard>=2.9.1->pytorch-lightning->autograd-lib) (1.8.1)\n",
            "Requirement already satisfied: werkzeug>=1.0.1 in /usr/local/lib/python3.7/dist-packages (from tensorboard>=2.9.1->pytorch-lightning->autograd-lib) (1.0.1)\n",
            "Requirement already satisfied: absl-py>=0.4 in /usr/local/lib/python3.7/dist-packages (from tensorboard>=2.9.1->pytorch-lightning->autograd-lib) (1.2.0)\n",
            "Requirement already satisfied: markdown>=2.6.8 in /usr/local/lib/python3.7/dist-packages (from tensorboard>=2.9.1->pytorch-lightning->autograd-lib) (3.4.1)\n",
            "Requirement already satisfied: setuptools>=41.0.0 in /usr/local/lib/python3.7/dist-packages (from tensorboard>=2.9.1->pytorch-lightning->autograd-lib) (57.4.0)\n",
            "Requirement already satisfied: pyasn1-modules>=0.2.1 in /usr/local/lib/python3.7/dist-packages (from google-auth<3,>=1.6.3->tensorboard>=2.9.1->pytorch-lightning->autograd-lib) (0.2.8)\n",
            "Requirement already satisfied: rsa<5,>=3.1.4 in /usr/local/lib/python3.7/dist-packages (from google-auth<3,>=1.6.3->tensorboard>=2.9.1->pytorch-lightning->autograd-lib) (4.9)\n",
            "Requirement already satisfied: six>=1.9.0 in /usr/local/lib/python3.7/dist-packages (from google-auth<3,>=1.6.3->tensorboard>=2.9.1->pytorch-lightning->autograd-lib) (1.15.0)\n",
            "Requirement already satisfied: cachetools<5.0,>=2.0.0 in /usr/local/lib/python3.7/dist-packages (from google-auth<3,>=1.6.3->tensorboard>=2.9.1->pytorch-lightning->autograd-lib) (4.2.4)\n",
            "Requirement already satisfied: requests-oauthlib>=0.7.0 in /usr/local/lib/python3.7/dist-packages (from google-auth-oauthlib<0.5,>=0.4.1->tensorboard>=2.9.1->pytorch-lightning->autograd-lib) (1.3.1)\n",
            "Requirement already satisfied: importlib-metadata>=4.4 in /usr/local/lib/python3.7/dist-packages (from markdown>=2.6.8->tensorboard>=2.9.1->pytorch-lightning->autograd-lib) (4.12.0)\n",
            "Requirement already satisfied: zipp>=0.5 in /usr/local/lib/python3.7/dist-packages (from importlib-metadata>=4.4->markdown>=2.6.8->tensorboard>=2.9.1->pytorch-lightning->autograd-lib) (3.8.1)\n",
            "Requirement already satisfied: pyasn1<0.5.0,>=0.4.6 in /usr/local/lib/python3.7/dist-packages (from pyasn1-modules>=0.2.1->google-auth<3,>=1.6.3->tensorboard>=2.9.1->pytorch-lightning->autograd-lib) (0.4.8)\n",
            "Requirement already satisfied: certifi>=2017.4.17 in /usr/local/lib/python3.7/dist-packages (from requests->fsspec[http]!=2021.06.0,>=2021.05.0->pytorch-lightning->autograd-lib) (2022.6.15)\n",
            "Requirement already satisfied: chardet<4,>=3.0.2 in /usr/local/lib/python3.7/dist-packages (from requests->fsspec[http]!=2021.06.0,>=2021.05.0->pytorch-lightning->autograd-lib) (3.0.4)\n",
            "Requirement already satisfied: urllib3!=1.25.0,!=1.25.1,<1.26,>=1.21.1 in /usr/local/lib/python3.7/dist-packages (from requests->fsspec[http]!=2021.06.0,>=2021.05.0->pytorch-lightning->autograd-lib) (1.24.3)\n",
            "Requirement already satisfied: idna<3,>=2.5 in /usr/local/lib/python3.7/dist-packages (from requests->fsspec[http]!=2021.06.0,>=2021.05.0->pytorch-lightning->autograd-lib) (2.10)\n",
            "Requirement already satisfied: oauthlib>=3.0.0 in /usr/local/lib/python3.7/dist-packages (from requests-oauthlib>=0.7.0->google-auth-oauthlib<0.5,>=0.4.1->tensorboard>=2.9.1->pytorch-lightning->autograd-lib) (3.2.0)\n",
            "Requirement already satisfied: matplotlib>=2.2 in /usr/local/lib/python3.7/dist-packages (from seaborn->autograd-lib) (3.2.2)\n",
            "Requirement already satisfied: scipy>=1.0 in /usr/local/lib/python3.7/dist-packages (from seaborn->autograd-lib) (1.7.3)\n",
            "Requirement already satisfied: pandas>=0.23 in /usr/local/lib/python3.7/dist-packages (from seaborn->autograd-lib) (1.3.5)\n",
            "Requirement already satisfied: kiwisolver>=1.0.1 in /usr/local/lib/python3.7/dist-packages (from matplotlib>=2.2->seaborn->autograd-lib) (1.4.4)\n",
            "Requirement already satisfied: python-dateutil>=2.1 in /usr/local/lib/python3.7/dist-packages (from matplotlib>=2.2->seaborn->autograd-lib) (2.8.2)\n",
            "Requirement already satisfied: cycler>=0.10 in /usr/local/lib/python3.7/dist-packages (from matplotlib>=2.2->seaborn->autograd-lib) (0.11.0)\n",
            "Requirement already satisfied: pytz>=2017.3 in /usr/local/lib/python3.7/dist-packages (from pandas>=0.23->seaborn->autograd-lib) (2022.2.1)\n"
          ]
        }
      ],
      "source": [
        "!pip install autograd-lib"
      ]
    },
    {
      "cell_type": "code",
      "source": [
        "import numpy as np\n",
        "from math import pi\n",
        "from collections import defaultdict\n",
        "from autograd_lib import autograd_lib\n",
        "\n",
        "import torch\n",
        "import torch.nn as nn\n",
        "from torch.utils.data import DataLoader, Dataset\n",
        "\n",
        "import warnings\n",
        "warnings.filterwarnings(\"ignore\")"
      ],
      "metadata": {
        "id": "bEwAdZ5wbhNz"
      },
      "execution_count": null,
      "outputs": []
    },
    {
      "cell_type": "code",
      "source": [
        "class MathRegressor(nn.Module):\n",
        "    def __init__(self, num_hidden=128):\n",
        "        super().__init__()\n",
        "        self.regressor = nn.Sequential(\n",
        "            nn.Linear(1, num_hidden),\n",
        "            nn.ReLU(),\n",
        "            nn.Linear(num_hidden, 1)\n",
        "        )\n",
        "\n",
        "    def forward(self, x):\n",
        "        x = self.regressor(x)\n",
        "        return x"
      ],
      "metadata": {
        "id": "I1NJJpNNbsEI"
      },
      "execution_count": null,
      "outputs": []
    },
    {
      "cell_type": "code",
      "source": [
        "!gdown --id 1ym6G7KKNkbsqSnMmnxdQKHO1JBoF0LPR"
      ],
      "metadata": {
        "colab": {
          "base_uri": "https://localhost:8080/"
        },
        "id": "hcVRtXENbulm",
        "outputId": "8704fd18-6370-4a1a-fcdd-7cde8fdb6863"
      },
      "execution_count": null,
      "outputs": [
        {
          "output_type": "stream",
          "name": "stdout",
          "text": [
            "/usr/local/lib/python3.7/dist-packages/gdown/cli.py:131: FutureWarning: Option `--id` was deprecated in version 4.3.1 and will be removed in 5.0. You don't need to pass it anymore to use a file ID.\n",
            "  category=FutureWarning,\n",
            "Downloading...\n",
            "From: https://drive.google.com/uc?id=1ym6G7KKNkbsqSnMmnxdQKHO1JBoF0LPR\n",
            "To: /content/data.pth\n",
            "100% 34.5k/34.5k [00:00<00:00, 31.2MB/s]\n"
          ]
        }
      ]
    },
    {
      "cell_type": "code",
      "source": [
        "# find the key from student_id\n",
        "import re\n",
        "\n",
        "key = student_id[-1]\n",
        "if re.match('[0-9]', key) is not None:\n",
        "    key = int(key)\n",
        "else:\n",
        "    key = ord(key) % 10"
      ],
      "metadata": {
        "id": "s_zHty84b2Fi"
      },
      "execution_count": null,
      "outputs": []
    },
    {
      "cell_type": "code",
      "source": [
        "# load checkpoint and data corresponding to the key\n",
        "model = MathRegressor()\n",
        "autograd_lib.register(model)\n",
        "\n",
        "data = torch.load('data.pth')[key]\n",
        "model.load_state_dict(data['model'])\n",
        "train, target = data['data']"
      ],
      "metadata": {
        "id": "6jngZr8wb5Et"
      },
      "execution_count": null,
      "outputs": []
    },
    {
      "cell_type": "code",
      "source": [
        "# function to compute gradient norm\n",
        "def compute_gradient_norm(model, criterion, train, target):\n",
        "    model.train()\n",
        "    model.zero_grad()\n",
        "    output = model(train)\n",
        "    loss = criterion(output, target)\n",
        "    loss.backward()\n",
        "\n",
        "    grads = []\n",
        "    for p in model.regressor.children():\n",
        "        if isinstance(p, nn.Linear):\n",
        "            param_norm = p.weight.grad.norm(2).item()\n",
        "            grads.append(param_norm)\n",
        "\n",
        "    grad_mean = np.mean(grads) # compute mean of gradient norms\n",
        "\n",
        "    return grad_mean"
      ],
      "metadata": {
        "id": "Wn-Qdy74b7pl"
      },
      "execution_count": null,
      "outputs": []
    },
    {
      "cell_type": "code",
      "source": [
        "# source code from the official document https://github.com/cybertronai/autograd-lib\n",
        "\n",
        "# helper function to save activations\n",
        "def save_activations(layer, A, _):\n",
        "    '''\n",
        "    A is the input of the layer, we use batch size of 6 here\n",
        "    layer 1: A has size of (6, 1)\n",
        "    layer 2: A has size of (6, 128)\n",
        "    '''\n",
        "    activations[layer] = A\n",
        "\n",
        "# helper function to compute Hessian matrix\n",
        "def compute_hess(layer, _, B):\n",
        "    '''\n",
        "    B is the backprop value of the layer\n",
        "    layer 1: B has size of (6, 128)\n",
        "    layer 2: B ahs size of (6, 1)\n",
        "    '''\n",
        "    A = activations[layer]\n",
        "    BA = torch.einsum('nl,ni->nli', B, A) # do batch-wise outer product\n",
        "\n",
        "    # full Hessian\n",
        "    hess[layer] += torch.einsum('nli,nkj->likj', BA, BA) # do batch-wise outer product, then sum over the batch"
      ],
      "metadata": {
        "id": "x-IO7YCYb9gu"
      },
      "execution_count": null,
      "outputs": []
    },
    {
      "cell_type": "code",
      "source": [
        "# function to compute the minimum ratio\n",
        "def compute_minimum_ratio(model, criterion, train, target):\n",
        "    model.zero_grad()\n",
        "    # compute Hessian matrix\n",
        "    # save the gradient of each layer\n",
        "    with autograd_lib.module_hook(save_activations):\n",
        "        output = model(train)\n",
        "        loss = criterion(output, target)\n",
        "\n",
        "    # compute Hessian according to the gradient value stored in the previous step\n",
        "    with autograd_lib.module_hook(compute_hess):\n",
        "        autograd_lib.backward_hessian(output, loss='LeastSquares')\n",
        "\n",
        "    layer_hess = list(hess.values())\n",
        "    minimum_ratio = []\n",
        "\n",
        "    # compute eigenvalues of the Hessian matrix\n",
        "    for h in layer_hess:\n",
        "        size = h.shape[0] * h.shape[1]\n",
        "        h = h.reshape(size, size)\n",
        "        h_eig = torch.symeig(h).eigenvalues # torch.symeig() returns eigenvalues and eigenvectors of a real symmetric matrix\n",
        "        num_greater = torch.sum(h_eig > 0).item()\n",
        "        minimum_ratio.append(num_greater / len(h_eig))\n",
        "\n",
        "    ratio_mean = np.mean(minimum_ratio) # compute mean of minimum ratio\n",
        "\n",
        "    return ratio_mean"
      ],
      "metadata": {
        "id": "ZMnhjTIXcAUX"
      },
      "execution_count": null,
      "outputs": []
    },
    {
      "cell_type": "code",
      "source": [
        "# the main function to compute gradient norm and minimum ratio\n",
        "def main(model, train, target):\n",
        "    criterion = nn.MSELoss()\n",
        "\n",
        "    gradient_norm = compute_gradient_norm(model, criterion, train, target)\n",
        "    minimum_ratio = compute_minimum_ratio(model, criterion, train, target)\n",
        "\n",
        "    print('gradient norm: {}, minimum ratio: {}'.format(gradient_norm, minimum_ratio))"
      ],
      "metadata": {
        "id": "8VhVOhIVcH03"
      },
      "execution_count": null,
      "outputs": []
    },
    {
      "cell_type": "code",
      "source": [
        "if __name__ == '__main__':\n",
        "    # fix random seed\n",
        "    torch.manual_seed(0)\n",
        "\n",
        "    # reset compute dictionaries\n",
        "    activations = defaultdict(int)\n",
        "    hess = defaultdict(float)\n",
        "\n",
        "    # compute Hessian\n",
        "    main(model, train, target)"
      ],
      "metadata": {
        "colab": {
          "base_uri": "https://localhost:8080/"
        },
        "id": "5lnxINlYcJNP",
        "outputId": "240f4cb0-35ab-41a7-e1d1-75aaf4a6beda"
      },
      "execution_count": null,
      "outputs": [
        {
          "output_type": "stream",
          "name": "stdout",
          "text": [
            "gradient norm: 0.0008458771626465023, minimum ratio: 0.45703125\n"
          ]
        }
      ]
    },
    {
      "cell_type": "code",
      "source": [
        "# Note:\n",
        "# gradient norm < 1e-3 and minimum ratio > 0.5 => local minima like,\n",
        "# gradient norm < 1e-3 and minimum ratio <= 0.5 => saddle point,\n",
        "# gradient norm >= 1e-3 => none of the above."
      ],
      "metadata": {
        "id": "rXkAnURmeImF"
      },
      "execution_count": null,
      "outputs": []
    },
    {
      "cell_type": "code",
      "source": [
        "# Result:\n",
        "# gradient norm: 0.0008458771626465023, minimum ratio: 0.45703125  => saddle point"
      ],
      "metadata": {
        "id": "OP2iDyKNeMkv"
      },
      "execution_count": null,
      "outputs": []
    },
    {
      "cell_type": "code",
      "source": [
        "# Ref:\n",
        "# 01. sample code: https://colab.research.google.com/github/ga642381/ML2021-Spring/blob/main/HW02/HW02-2.ipynb#scrollTo=z0eNH3RD73Ye"
      ],
      "metadata": {
        "id": "X_aL-H1CeYsA"
      },
      "execution_count": null,
      "outputs": []
    }
  ]
}