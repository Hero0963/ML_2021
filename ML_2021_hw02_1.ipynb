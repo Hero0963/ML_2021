{
  "nbformat": 4,
  "nbformat_minor": 0,
  "metadata": {
    "colab": {
      "provenance": [],
      "collapsed_sections": [],
      "authorship_tag": "ABX9TyMhOIKrmnwFn/iiAKD+RQZY",
      "include_colab_link": true
    },
    "kernelspec": {
      "name": "python3",
      "display_name": "Python 3"
    },
    "language_info": {
      "name": "python"
    },
    "accelerator": "GPU",
    "gpuClass": "standard"
  },
  "cells": [
    {
      "cell_type": "markdown",
      "metadata": {
        "id": "view-in-github",
        "colab_type": "text"
      },
      "source": [
        "<a href=\"https://colab.research.google.com/github/Hero0963/ML_2021/blob/main/ML_2021_hw02_1.ipynb\" target=\"_parent\"><img src=\"https://colab.research.google.com/assets/colab-badge.svg\" alt=\"Open In Colab\"/></a>"
      ]
    },
    {
      "cell_type": "code",
      "execution_count": null,
      "metadata": {
        "colab": {
          "base_uri": "https://localhost:8080/"
        },
        "id": "z6L8v5_muCpJ",
        "outputId": "94dc0b60-06c4-4623-f4f8-b4bc5e20204f"
      },
      "outputs": [
        {
          "output_type": "stream",
          "name": "stdout",
          "text": [
            "data.zip\t\t\t       model.ckpt\n",
            "hero_hw_02_2022_09_12-04_26_56_PM.csv  sample_data\n",
            "hero_hw_02_2022_09_12-05_11_16_PM.csv  timit_11\n"
          ]
        }
      ],
      "source": [
        "# Download Data\n",
        "!gdown --id '1HPkcmQmFGu-3OknddKIa5dNDsR05lIQR' --output data.zip\n",
        "!unzip data.zip\n",
        "!ls "
      ]
    },
    {
      "cell_type": "code",
      "source": [
        "# Preparing Data\n",
        "import numpy as np\n",
        "\n",
        "print('Loading data ...')\n",
        "\n",
        "data_root='./timit_11/'\n",
        "train = np.load(data_root + 'train_11.npy')\n",
        "train_label = np.load(data_root + 'train_label_11.npy')\n",
        "test = np.load(data_root + 'test_11.npy')\n",
        "\n",
        "print('Size of training data: {}'.format(train.shape))\n",
        "print('Size of testing data: {}'.format(test.shape))"
      ],
      "metadata": {
        "colab": {
          "base_uri": "https://localhost:8080/"
        },
        "id": "-2v_MYh0udJy",
        "outputId": "1d94598a-1468-48a6-b21b-919c1935f680"
      },
      "execution_count": null,
      "outputs": [
        {
          "output_type": "stream",
          "name": "stdout",
          "text": [
            "Loading data ...\n",
            "Size of training data: (1229932, 429)\n",
            "Size of testing data: (451552, 429)\n"
          ]
        }
      ]
    },
    {
      "cell_type": "code",
      "source": [
        "# Create Dataset\n",
        "import torch\n",
        "from torch.utils.data import Dataset\n",
        "\n",
        "class TIMITDataset(Dataset):\n",
        "    def __init__(self, X, y=None):\n",
        "        self.data = torch.from_numpy(X).float()\n",
        "        if y is not None:\n",
        "            y = y.astype(np.int)\n",
        "            self.label = torch.LongTensor(y)\n",
        "        else:\n",
        "            self.label = None\n",
        "\n",
        "    def __getitem__(self, idx):\n",
        "        if self.label is not None:\n",
        "            return self.data[idx], self.label[idx]\n",
        "        else:\n",
        "            return self.data[idx]\n",
        "\n",
        "    def __len__(self):\n",
        "        return len(self.data)"
      ],
      "metadata": {
        "id": "6WYgHOrVudW3"
      },
      "execution_count": null,
      "outputs": []
    },
    {
      "cell_type": "code",
      "source": [
        "# Setup Validation Set\n",
        "VAL_RATIO = 0.1\n",
        "\n",
        "percent = int(train.shape[0] * (1 - VAL_RATIO))\n",
        "train_x, train_y, val_x, val_y = train[:percent], train_label[:percent], train[percent:], train_label[percent:]\n",
        "print('Size of training set: {}'.format(train_x.shape))\n",
        "print('Size of validation set: {}'.format(val_x.shape))"
      ],
      "metadata": {
        "colab": {
          "base_uri": "https://localhost:8080/"
        },
        "id": "H07ooaNyumvQ",
        "outputId": "89c7c4df-0db6-46cc-e405-be91d3b9b7eb"
      },
      "execution_count": null,
      "outputs": [
        {
          "output_type": "stream",
          "name": "stdout",
          "text": [
            "Size of training set: (1106938, 429)\n",
            "Size of validation set: (122994, 429)\n"
          ]
        }
      ]
    },
    {
      "cell_type": "code",
      "source": [
        "# Setup Batch Size\n",
        "BATCH_SIZE = 64\n",
        "\n",
        "from torch.utils.data import DataLoader\n",
        "\n",
        "train_set = TIMITDataset(train_x, train_y)\n",
        "val_set = TIMITDataset(val_x, val_y)\n",
        "train_loader = DataLoader(train_set, batch_size=BATCH_SIZE, shuffle=True) #only shuffle the training data\n",
        "val_loader = DataLoader(val_set, batch_size=BATCH_SIZE, shuffle=False)"
      ],
      "metadata": {
        "colab": {
          "base_uri": "https://localhost:8080/"
        },
        "id": "aeec_uvYuy5I",
        "outputId": "b562bfd9-2bd0-4ee5-bbe8-5b8e18bca4a5"
      },
      "execution_count": null,
      "outputs": [
        {
          "output_type": "stream",
          "name": "stderr",
          "text": [
            "/usr/local/lib/python3.7/dist-packages/ipykernel_launcher.py:9: DeprecationWarning: `np.int` is a deprecated alias for the builtin `int`. To silence this warning, use `int` by itself. Doing this will not modify any behavior and is safe. When replacing `np.int`, you may wish to use e.g. `np.int64` or `np.int32` to specify the precision. If you wish to review your current use, check the release note link for additional information.\n",
            "Deprecated in NumPy 1.20; for more details and guidance: https://numpy.org/devdocs/release/1.20.0-notes.html#deprecations\n",
            "  if __name__ == '__main__':\n"
          ]
        }
      ]
    },
    {
      "cell_type": "code",
      "source": [
        "# GC ,since the data size is huge\n",
        "import gc\n",
        "\n",
        "del train, train_label, train_x, train_y, val_x, val_y\n",
        "gc.collect()"
      ],
      "metadata": {
        "colab": {
          "base_uri": "https://localhost:8080/"
        },
        "id": "lKiz8CLQu44E",
        "outputId": "8d39f88d-1ffb-42ea-b459-e5e0f70c5fc7"
      },
      "execution_count": null,
      "outputs": [
        {
          "output_type": "execute_result",
          "data": {
            "text/plain": [
              "44"
            ]
          },
          "metadata": {},
          "execution_count": 5
        }
      ]
    },
    {
      "cell_type": "code",
      "source": [
        "# Create Model\n",
        "import torch\n",
        "import torch.nn as nn\n",
        "\n",
        "class Classifier(nn.Module):\n",
        "    def __init__(self):\n",
        "        super(Classifier, self).__init__()\n",
        "        self.layer_0 = nn.Linear(429, 2048)\n",
        "        self.layer_1 = nn.Linear(2048, 1024)\n",
        "        self.layer_2 = nn.Linear(1024, 512)\n",
        "        self.layer_3 = nn.Linear(512, 128)\n",
        "        self.out = nn.Linear(128, 39) \n",
        "\n",
        "        self.act_fn = nn.ReLU()\n",
        "        self.dropout = nn.Dropout(0.25)\n",
        "\n",
        "        self.batchnorm_0 = nn.BatchNorm1d(2048)\n",
        "        self.batchnorm_1 = nn.BatchNorm1d(1024)\n",
        "        self.batchnorm_2 = nn.BatchNorm1d(512)\n",
        "        self.batchnorm_3 = nn.BatchNorm1d(128)\n",
        "\n",
        "    def forward(self, x):\n",
        "        x = self.layer_0(x)\n",
        "        x = self.batchnorm_0(x)\n",
        "        x = self.act_fn(x)\n",
        "        x = self.dropout(x)\n",
        "\n",
        "\n",
        "        x = self.layer_1(x)\n",
        "        x = self.batchnorm_1(x)\n",
        "        x = self.act_fn(x)\n",
        "        x = self.dropout(x)\n",
        "\n",
        "        x = self.layer_2(x)\n",
        "        x = self.batchnorm_2(x)\n",
        "        x = self.act_fn(x)\n",
        "        x = self.dropout(x)\n",
        "\n",
        "        x = self.layer_3(x)\n",
        "        x = self.batchnorm_3(x)\n",
        "        x = self.act_fn(x)\n",
        "        x = self.dropout(x)\n",
        "\n",
        "        x = self.out(x)\n",
        "        \n",
        "        return x"
      ],
      "metadata": {
        "id": "fZEdVdPlvFC4"
      },
      "execution_count": null,
      "outputs": []
    },
    {
      "cell_type": "code",
      "source": [
        "# Training\n",
        "#check device\n",
        "def get_device():\n",
        "  return 'cuda' if torch.cuda.is_available() else 'cpu'"
      ],
      "metadata": {
        "id": "nhI3hMs8vQQI"
      },
      "execution_count": null,
      "outputs": []
    },
    {
      "cell_type": "code",
      "source": [
        "# fix random seed\n",
        "def same_seeds(seed):\n",
        "    torch.manual_seed(seed)\n",
        "    if torch.cuda.is_available():\n",
        "        torch.cuda.manual_seed(seed)\n",
        "        torch.cuda.manual_seed_all(seed)  \n",
        "    np.random.seed(seed)  \n",
        "    torch.backends.cudnn.benchmark = False\n",
        "    torch.backends.cudnn.deterministic = True"
      ],
      "metadata": {
        "id": "rwEij8GuvUc3"
      },
      "execution_count": null,
      "outputs": []
    },
    {
      "cell_type": "code",
      "source": [
        "# fix random seed for reproducibility\n",
        "my_lucky_number=10963\n",
        "same_seeds(my_lucky_number)\n",
        "\n",
        "# get device \n",
        "device = get_device()\n",
        "print(f'DEVICE: {device}')\n",
        "\n",
        "# training parameters\n",
        "num_epoch = 20               # number of training epoch\n",
        "learning_rate = 0.0001       # learning rate\n",
        "\n",
        "# the path where checkpoint saved\n",
        "model_path = './model.ckpt'\n",
        "\n",
        "# create model, define a loss function, and optimizer\n",
        "model = Classifier().to(device)\n",
        "criterion = nn.CrossEntropyLoss() \n",
        "optimizer = torch.optim.Adam(model.parameters())  # default"
      ],
      "metadata": {
        "colab": {
          "base_uri": "https://localhost:8080/"
        },
        "id": "TzYhE2oGvWBt",
        "outputId": "4015ee5b-52ad-42e9-991c-a014f19acd0a"
      },
      "execution_count": null,
      "outputs": [
        {
          "output_type": "stream",
          "name": "stdout",
          "text": [
            "DEVICE: cuda\n"
          ]
        }
      ]
    },
    {
      "cell_type": "code",
      "source": [
        "# start training\n",
        "\n",
        "best_acc = 0.0\n",
        "for epoch in range(num_epoch):\n",
        "    train_acc = 0.0\n",
        "    train_loss = 0.0\n",
        "    val_acc = 0.0\n",
        "    val_loss = 0.0\n",
        "\n",
        "    # training\n",
        "    model.train() # set the model to training mode\n",
        "    for i, data in enumerate(train_loader):\n",
        "        inputs, labels = data\n",
        "        inputs, labels = inputs.to(device), labels.to(device)\n",
        "        optimizer.zero_grad() \n",
        "        outputs = model(inputs)  \n",
        "        batch_loss = criterion(outputs, labels)\n",
        "        _, train_pred = torch.max(outputs, 1) # get the index of the class with the highest probability\n",
        "        batch_loss.backward() \n",
        "        optimizer.step() \n",
        "\n",
        "        train_acc += (train_pred.cpu() == labels.cpu()).sum().item()\n",
        "        train_loss += batch_loss.item()\n",
        "\n",
        "    # validation\n",
        "    if len(val_set) > 0:\n",
        "        model.eval() # set the model to evaluation mode\n",
        "        with torch.no_grad():\n",
        "            for i, data in enumerate(val_loader):\n",
        "                inputs, labels = data\n",
        "                inputs, labels = inputs.to(device), labels.to(device)\n",
        "                outputs = model(inputs)\n",
        "                batch_loss = criterion(outputs, labels) \n",
        "                _, val_pred = torch.max(outputs, 1) \n",
        "            \n",
        "                val_acc += (val_pred.cpu() == labels.cpu()).sum().item() # get the index of the class with the highest probability\n",
        "                val_loss += batch_loss.item()\n",
        "\n",
        "            print('[{:03d}/{:03d}] Train Acc: {:3.6f} Loss: {:3.6f} | Val Acc: {:3.6f} loss: {:3.6f}'.format(\n",
        "                epoch + 1, num_epoch, train_acc/len(train_set), train_loss/len(train_loader), val_acc/len(val_set), val_loss/len(val_loader)\n",
        "            ))\n",
        "\n",
        "            # if the model improves, save a checkpoint at this epoch\n",
        "            if val_acc > best_acc:\n",
        "                best_acc = val_acc\n",
        "                torch.save(model.state_dict(), model_path)\n",
        "                print('saving model with acc {:.3f}'.format(best_acc/len(val_set)))\n",
        "    else:\n",
        "        print('[{:03d}/{:03d}] Train Acc: {:3.6f} Loss: {:3.6f}'.format(\n",
        "            epoch + 1, num_epoch, train_acc/len(train_set), train_loss/len(train_loader)\n",
        "        ))\n",
        "\n",
        "# if not validating, save the last epoch\n",
        "if len(val_set) == 0:\n",
        "    torch.save(model.state_dict(), model_path)\n",
        "    print('saving model at last epoch')"
      ],
      "metadata": {
        "colab": {
          "base_uri": "https://localhost:8080/"
        },
        "id": "bWkju6cbveDS",
        "outputId": "46168c1b-8a9e-4615-879a-7b3d6af5db29"
      },
      "execution_count": null,
      "outputs": [
        {
          "output_type": "stream",
          "name": "stdout",
          "text": [
            "[001/020] Train Acc: 0.605809 Loss: 1.279852 | Val Acc: 0.695676 loss: 0.943210\n",
            "saving model with acc 0.696\n",
            "[002/020] Train Acc: 0.667072 Loss: 1.052570 | Val Acc: 0.716401 loss: 0.864113\n",
            "saving model with acc 0.716\n",
            "[003/020] Train Acc: 0.689360 Loss: 0.971918 | Val Acc: 0.727515 loss: 0.826697\n",
            "saving model with acc 0.728\n",
            "[004/020] Train Acc: 0.703292 Loss: 0.920539 | Val Acc: 0.733629 loss: 0.804935\n",
            "saving model with acc 0.734\n",
            "[005/020] Train Acc: 0.713446 Loss: 0.883456 | Val Acc: 0.738556 loss: 0.789812\n",
            "saving model with acc 0.739\n",
            "[006/020] Train Acc: 0.722130 Loss: 0.853380 | Val Acc: 0.743410 loss: 0.774215\n",
            "saving model with acc 0.743\n",
            "[007/020] Train Acc: 0.728952 Loss: 0.827242 | Val Acc: 0.744492 loss: 0.771584\n",
            "saving model with acc 0.744\n",
            "[008/020] Train Acc: 0.734779 Loss: 0.806519 | Val Acc: 0.743679 loss: 0.775195\n",
            "[009/020] Train Acc: 0.739503 Loss: 0.789370 | Val Acc: 0.747053 loss: 0.765161\n",
            "saving model with acc 0.747\n",
            "[010/020] Train Acc: 0.744178 Loss: 0.773349 | Val Acc: 0.748167 loss: 0.758939\n",
            "saving model with acc 0.748\n",
            "[011/020] Train Acc: 0.748496 Loss: 0.758702 | Val Acc: 0.747923 loss: 0.763675\n",
            "[012/020] Train Acc: 0.751552 Loss: 0.746035 | Val Acc: 0.749134 loss: 0.762070\n",
            "saving model with acc 0.749\n",
            "[013/020] Train Acc: 0.755944 Loss: 0.734054 | Val Acc: 0.751768 loss: 0.755711\n",
            "saving model with acc 0.752\n",
            "[014/020] Train Acc: 0.758071 Loss: 0.725253 | Val Acc: 0.752525 loss: 0.754358\n",
            "saving model with acc 0.753\n",
            "[015/020] Train Acc: 0.761245 Loss: 0.714017 | Val Acc: 0.751281 loss: 0.762074\n",
            "[016/020] Train Acc: 0.764578 Loss: 0.703880 | Val Acc: 0.752338 loss: 0.755937\n",
            "[017/020] Train Acc: 0.766122 Loss: 0.696969 | Val Acc: 0.753248 loss: 0.755531\n",
            "saving model with acc 0.753\n",
            "[018/020] Train Acc: 0.768788 Loss: 0.688093 | Val Acc: 0.752102 loss: 0.760155\n",
            "[019/020] Train Acc: 0.771202 Loss: 0.680862 | Val Acc: 0.753077 loss: 0.756221\n",
            "[020/020] Train Acc: 0.773191 Loss: 0.674430 | Val Acc: 0.751964 loss: 0.767225\n"
          ]
        }
      ]
    },
    {
      "cell_type": "code",
      "source": [
        "# Testing\n",
        "# create testing dataset\n",
        "test_set = TIMITDataset(test, None)\n",
        "test_loader = DataLoader(test_set, batch_size=BATCH_SIZE, shuffle=False)\n",
        "\n",
        "# create model and load weights from checkpoint\n",
        "model = Classifier().to(device)\n",
        "model.load_state_dict(torch.load(model_path))"
      ],
      "metadata": {
        "colab": {
          "base_uri": "https://localhost:8080/"
        },
        "id": "YptOaGVpvhW5",
        "outputId": "c2deee2a-51a7-4e7a-f79e-4a9ac06ed0b9"
      },
      "execution_count": null,
      "outputs": [
        {
          "output_type": "execute_result",
          "data": {
            "text/plain": [
              "<All keys matched successfully>"
            ]
          },
          "metadata": {},
          "execution_count": 11
        }
      ]
    },
    {
      "cell_type": "code",
      "source": [
        "# Make Prediction\n",
        "predict = []\n",
        "model.eval() # set the model to evaluation mode\n",
        "with torch.no_grad():\n",
        "    for i, data in enumerate(test_loader):\n",
        "        inputs = data\n",
        "        inputs = inputs.to(device)\n",
        "        outputs = model(inputs)\n",
        "        _, test_pred = torch.max(outputs, 1) # get the index of the class with the highest probability\n",
        "\n",
        "        for y in test_pred.cpu().numpy():\n",
        "            predict.append(y)"
      ],
      "metadata": {
        "id": "VHwOTHCpvkml"
      },
      "execution_count": null,
      "outputs": []
    },
    {
      "cell_type": "code",
      "source": [
        "# Save Prediction Results\n",
        "from datetime import datetime,timezone,timedelta\n",
        "def save_pred(predict, file):\n",
        "    ''' Save predictions to specified file '''\n",
        "    print('Saving results to {}'.format(file))\n",
        "    \n",
        "    with open(file, 'w') as f:\n",
        "      f.write('Id,Class\\n')\n",
        "      for i, y in enumerate(predict):\n",
        "        f.write('{},{}\\n'.format(i, y))\n",
        "\n",
        "\n",
        "dt1 = datetime.utcnow().replace(tzinfo=timezone.utc)\n",
        "dt2 = dt1.astimezone(timezone(timedelta(hours=8))) # convert time zone\n",
        "filename='hero_hw_02_'+dt2.strftime(\"%Y_%m_%d-%I_%M_%S_%p\")+'.csv'\n",
        "save_pred(predict, filename)         # save prediction file to pred.csv"
      ],
      "metadata": {
        "colab": {
          "base_uri": "https://localhost:8080/"
        },
        "id": "tnxS34kHvqP7",
        "outputId": "2905a2e0-aae6-49ff-ffdf-7b51226bfba9"
      },
      "execution_count": null,
      "outputs": [
        {
          "output_type": "stream",
          "name": "stdout",
          "text": [
            "Saving results to hero_hw_02_2022_09_12-05_52_38_PM.csv\n"
          ]
        }
      ]
    },
    {
      "cell_type": "code",
      "source": [
        "# Note\n",
        "# 01. add batch norm\n",
        "# 02. add dropout"
      ],
      "metadata": {
        "id": "IkHUKtvIZf2p"
      },
      "execution_count": null,
      "outputs": []
    },
    {
      "cell_type": "code",
      "source": [
        "# Result\n",
        "# hero_hw_02_2022_09_12-05_52_38_PM.csv\n",
        "# Score: 0.73622\n",
        "# Private score: 0.73501"
      ],
      "metadata": {
        "id": "dzs5SvRZaYJW"
      },
      "execution_count": null,
      "outputs": []
    },
    {
      "cell_type": "code",
      "source": [
        "# Ref\n",
        "# 01. sample code: https://colab.research.google.com/github/ga642381/ML2021-Spring/blob/main/HW02/HW02-1.ipynb\n",
        "# 02. kaggle code: https://www.kaggle.com/code/tamakoyl/2021hw02phoneme"
      ],
      "metadata": {
        "id": "zEj1fdkGaj0f"
      },
      "execution_count": null,
      "outputs": []
    }
  ]
}