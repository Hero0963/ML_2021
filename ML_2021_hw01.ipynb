{
  "nbformat": 4,
  "nbformat_minor": 0,
  "metadata": {
    "colab": {
      "provenance": [],
      "collapsed_sections": [],
      "authorship_tag": "ABX9TyMBNgv/IEM+gbhnQCgsq/Jr",
      "include_colab_link": true
    },
    "kernelspec": {
      "name": "python3",
      "display_name": "Python 3"
    },
    "language_info": {
      "name": "python"
    }
  },
  "cells": [
    {
      "cell_type": "markdown",
      "metadata": {
        "id": "view-in-github",
        "colab_type": "text"
      },
      "source": [
        "<a href=\"https://colab.research.google.com/github/Hero0963/ML_2021/blob/main/ML_2021_hw01.ipynb\" target=\"_parent\"><img src=\"https://colab.research.google.com/assets/colab-badge.svg\" alt=\"Open In Colab\"/></a>"
      ]
    },
    {
      "cell_type": "markdown",
      "source": [],
      "metadata": {
        "id": "6uH3jf11mLal"
      }
    },
    {
      "cell_type": "code",
      "execution_count": 26,
      "metadata": {
        "colab": {
          "base_uri": "https://localhost:8080/"
        },
        "id": "Qp-XhXkNzWmt",
        "outputId": "6ac9052d-e0e6-4fce-a2c3-11f76459855c"
      },
      "outputs": [
        {
          "output_type": "stream",
          "name": "stdout",
          "text": [
            "/usr/local/lib/python3.7/dist-packages/gdown/cli.py:131: FutureWarning: Option `--id` was deprecated in version 4.3.1 and will be removed in 5.0. You don't need to pass it anymore to use a file ID.\n",
            "  category=FutureWarning,\n",
            "Downloading...\n",
            "From: https://drive.google.com/uc?id=19CCyCgJrUxtvgZF53vnctJiOJ23T5mqF\n",
            "To: /content/covid.train.csv\n",
            "100% 2.00M/2.00M [00:00<00:00, 191MB/s]\n",
            "/usr/local/lib/python3.7/dist-packages/gdown/cli.py:131: FutureWarning: Option `--id` was deprecated in version 4.3.1 and will be removed in 5.0. You don't need to pass it anymore to use a file ID.\n",
            "  category=FutureWarning,\n",
            "Downloading...\n",
            "From: https://drive.google.com/uc?id=1CE240jLm2npU-tdz81-oVKEF3T2yfT1O\n",
            "To: /content/covid.test.csv\n",
            "100% 651k/651k [00:00<00:00, 121MB/s]\n"
          ]
        }
      ],
      "source": [
        "# download data\n",
        "tr_path = 'covid.train.csv'  # path to training data\n",
        "tt_path = 'covid.test.csv'   # path to testing data\n",
        "\n",
        "!gdown --id '19CCyCgJrUxtvgZF53vnctJiOJ23T5mqF' --output covid.train.csv\n",
        "!gdown --id '1CE240jLm2npU-tdz81-oVKEF3T2yfT1O' --output covid.test.csv"
      ]
    },
    {
      "cell_type": "code",
      "source": [
        "# import packages\n",
        "# PyTorch\n",
        "import torch\n",
        "import torch.nn as nn\n",
        "from torch.utils.data import Dataset, DataLoader\n",
        "\n",
        "# For data preprocess\n",
        "import numpy as np\n",
        "import csv\n",
        "import os\n",
        "\n",
        "# For plotting\n",
        "import matplotlib.pyplot as plt\n",
        "from matplotlib.pyplot import figure\n",
        "\n",
        "myseed = 10963  # set a random seed for reproducibility\n",
        "torch.backends.cudnn.deterministic = True\n",
        "torch.backends.cudnn.benchmark = False\n",
        "np.random.seed(myseed)\n",
        "torch.manual_seed(myseed)\n",
        "if torch.cuda.is_available():\n",
        "    torch.cuda.manual_seed_all(myseed)\n"
      ],
      "metadata": {
        "id": "rKUNkh_e1yfk"
      },
      "execution_count": 27,
      "outputs": []
    },
    {
      "cell_type": "code",
      "source": [
        "# Some Utilities\n",
        "def get_device():\n",
        "    ''' Get device (if GPU is available, use GPU) '''\n",
        "    return 'cuda' if torch.cuda.is_available() else 'cpu'\n",
        "\n",
        "def plot_learning_curve(loss_record, title=''):\n",
        "    ''' Plot learning curve of your DNN (train & dev loss) '''\n",
        "    total_steps = len(loss_record['train'])\n",
        "    x_1 = range(total_steps)\n",
        "    x_2 = x_1[::len(loss_record['train']) // len(loss_record['dev'])]\n",
        "    figure(figsize=(6, 4))\n",
        "    plt.plot(x_1, loss_record['train'], c='tab:red', label='train')\n",
        "    plt.plot(x_2, loss_record['dev'], c='tab:cyan', label='dev')\n",
        "    plt.ylim(0.0, 5.)\n",
        "    plt.xlabel('Training steps')\n",
        "    plt.ylabel('MSE loss')\n",
        "    plt.title('Learning curve of {}'.format(title))\n",
        "    plt.legend()\n",
        "    plt.show()\n",
        "\n",
        "\n",
        "def plot_pred(dv_set, model, device, lim=35., preds=None, targets=None):\n",
        "    ''' Plot prediction of your DNN '''\n",
        "    if preds is None or targets is None:\n",
        "        model.eval()\n",
        "        preds, targets = [], []\n",
        "        for x, y in dv_set:\n",
        "            x, y = x.to(device), y.to(device)\n",
        "            with torch.no_grad():\n",
        "                pred = model(x)\n",
        "                preds.append(pred.detach().cpu())\n",
        "                targets.append(y.detach().cpu())\n",
        "        preds = torch.cat(preds, dim=0).numpy()\n",
        "        targets = torch.cat(targets, dim=0).numpy()\n",
        "\n",
        "    figure(figsize=(5, 5))\n",
        "    plt.scatter(targets, preds, c='r', alpha=0.5)\n",
        "    plt.plot([-0.2, lim], [-0.2, lim], c='b')\n",
        "    plt.xlim(-0.2, lim)\n",
        "    plt.ylim(-0.2, lim)\n",
        "    plt.xlabel('ground truth value')\n",
        "    plt.ylabel('predicted value')\n",
        "    plt.title('Ground Truth v.s. Prediction')\n",
        "    plt.show()\n"
      ],
      "metadata": {
        "id": "YdnpCTSt19-T"
      },
      "execution_count": 28,
      "outputs": []
    },
    {
      "cell_type": "code",
      "source": [
        "# dataset\n",
        "class COVID19Dataset(Dataset):\n",
        "    ''' Dataset for loading and preprocessing the COVID19 dataset '''\n",
        "    def __init__(self,\n",
        "                 path,\n",
        "                 mode='train',\n",
        "                 target_only=False):\n",
        "        self.mode = mode\n",
        "\n",
        "        # Read data into numpy arrays\n",
        "        with open(path, 'r') as fp:\n",
        "            data = list(csv.reader(fp))\n",
        "            data = np.array(data[1:])[:, 1:].astype(float)\n",
        "        \n",
        "        if not target_only:\n",
        "            feats = list(range(93))\n",
        "        else:\n",
        "            # TODO: Using 40 states & 2 tested_positive features (indices = 57 & 75)\n",
        "            feats = [57,75]+[58,59,60,61]+[76,77,78,79]\n",
        "\n",
        "        if mode == 'test':\n",
        "            # Testing data\n",
        "            # data: 893 x 93 (40 states + day 1 (18) + day 2 (18) + day 3 (17))\n",
        "            data = data[:, feats]\n",
        "            self.data = torch.FloatTensor(data)\n",
        "        else:\n",
        "            # Training data (train/dev sets)\n",
        "            # data: 2700 x 94 (40 states + day 1 (18) + day 2 (18) + day 3 (18))\n",
        "            target = data[:, -1]\n",
        "            data = data[:, feats]\n",
        "            \n",
        "            # Splitting training data into train & dev sets\n",
        "            if mode == 'train':\n",
        "                indices = [i for i in range(len(data)) if i % 10 != 0]\n",
        "            elif mode == 'dev':\n",
        "                indices = [i for i in range(len(data)) if i % 10 == 0]\n",
        "            \n",
        "            # Convert data into PyTorch tensors\n",
        "            self.data = torch.FloatTensor(data[indices])\n",
        "            self.target = torch.FloatTensor(target[indices])\n",
        "\n",
        "        # Normalize features (you may remove this part to see what will happen)\n",
        "        self.data[:, 40:] = \\\n",
        "            (self.data[:, 40:] - self.data[:, 40:].mean(dim=0, keepdim=True)) \\\n",
        "            / self.data[:, 40:].std(dim=0, keepdim=True)\n",
        "\n",
        "        self.dim = self.data.shape[1]\n",
        "\n",
        "        print('Finished reading the {} set of COVID19 Dataset ({} samples found, each dim = {})'\n",
        "              .format(mode, len(self.data), self.dim))\n",
        "\n",
        "    def __getitem__(self, index):\n",
        "        # Returns one sample at a time\n",
        "        if self.mode in ['train', 'dev']:\n",
        "            # For training\n",
        "            return self.data[index], self.target[index]\n",
        "        else:\n",
        "            # For testing (no target)\n",
        "            return self.data[index]\n",
        "\n",
        "    def __len__(self):\n",
        "        # Returns the size of the dataset\n",
        "        return len(self.data)"
      ],
      "metadata": {
        "id": "wMVEao-82OjY"
      },
      "execution_count": 29,
      "outputs": []
    },
    {
      "cell_type": "code",
      "source": [
        "# dataloader\n",
        "def prep_dataloader(path, mode, batch_size, n_jobs=0, target_only=False):\n",
        "    ''' Generates a dataset, then is put into a dataloader. '''\n",
        "    dataset = COVID19Dataset(path, mode=mode, target_only=target_only)  # Construct dataset\n",
        "    dataloader = DataLoader(\n",
        "        dataset, batch_size,\n",
        "        shuffle=(mode == 'train'), drop_last=False,\n",
        "        num_workers=n_jobs, pin_memory=True)                            # Construct dataloader\n",
        "    return dataloader"
      ],
      "metadata": {
        "id": "LFxsR5yw2wz4"
      },
      "execution_count": 30,
      "outputs": []
    },
    {
      "cell_type": "code",
      "source": [
        "# Deep Neural Network\n",
        "class NeuralNet(nn.Module):\n",
        "    ''' A simple fully-connected deep neural network '''\n",
        "    def __init__(self, input_dim):\n",
        "        super(NeuralNet, self).__init__()\n",
        "\n",
        "        # Define your neural network here\n",
        "        # TODO: How to modify this model to achieve better performance?\n",
        "        self.net = nn.Sequential(\n",
        "            nn.Linear(input_dim, 64),\n",
        "            nn.ReLU(),\n",
        "            nn.Linear(64, 1)\n",
        "        )\n",
        "\n",
        "        # Mean squared error loss\n",
        "        self.criterion = nn.MSELoss(reduction='mean')\n",
        "\n",
        "    def forward(self, x):\n",
        "        ''' Given input of size (batch_size x input_dim), compute output of the network '''\n",
        "        return self.net(x).squeeze(1)\n",
        "\n",
        "    def cal_loss(self, pred, target):\n",
        "        ''' Calculate loss '''\n",
        "        # TODO: you may implement L1/L2 regularization here\n",
        "\n",
        "        loss = self.criterion(pred, target)\n",
        "        #Replaces pow(2.0) with abs() for L1 regularization\n",
        "        l2_lambda = 0.001\n",
        "        l2_norm = sum(p.pow(2.0).sum()\n",
        "                  for p in model.parameters())\n",
        "        loss = loss + l2_lambda * l2_norm\n",
        "\n",
        "        return loss"
      ],
      "metadata": {
        "id": "eLuGd0rM265v"
      },
      "execution_count": 31,
      "outputs": []
    },
    {
      "cell_type": "code",
      "source": [
        "# training\n",
        "def train(tr_set, dv_set, model, config, device):\n",
        "    ''' DNN training '''\n",
        "\n",
        "    n_epochs = config['n_epochs']  # Maximum number of epochs\n",
        "\n",
        "    # Setup optimizer\n",
        "    optimizer = getattr(torch.optim, config['optimizer'])(\n",
        "        model.parameters(), **config['optim_hparas'])\n",
        "\n",
        "    \n",
        "\n",
        "    min_mse = 1000.\n",
        "    loss_record = {'train': [], 'dev': []}      # for recording training loss\n",
        "    early_stop_cnt = 0\n",
        "    epoch = 0\n",
        "    while epoch < n_epochs:\n",
        "        model.train()                           # set model to training mode\n",
        "        for x, y in tr_set:                     # iterate through the dataloader\n",
        "            optimizer.zero_grad()               # set gradient to zero\n",
        "            x, y = x.to(device), y.to(device)   # move data to device (cpu/cuda)\n",
        "            pred = model(x)                     # forward pass (compute output)\n",
        "            mse_loss = model.cal_loss(pred, y)  # compute loss\n",
        "            mse_loss.backward()                 # compute gradient (backpropagation)\n",
        "            optimizer.step()                    # update model with optimizer\n",
        "            loss_record['train'].append(mse_loss.detach().cpu().item())\n",
        "\n",
        "        # After each epoch, test your model on the validation (development) set.\n",
        "        dev_mse = dev(dv_set, model, device)\n",
        "        if dev_mse < min_mse:\n",
        "            # Save model if your model improved\n",
        "            min_mse = dev_mse\n",
        "            print('Saving model (epoch = {:4d}, loss = {:.4f})'\n",
        "                .format(epoch + 1, min_mse))\n",
        "            torch.save(model.state_dict(), config['save_path'])  # Save model to specified path\n",
        "            early_stop_cnt = 0\n",
        "        else:\n",
        "            early_stop_cnt += 1\n",
        "\n",
        "        epoch += 1\n",
        "        loss_record['dev'].append(dev_mse)\n",
        "        if early_stop_cnt > config['early_stop']:\n",
        "            # Stop training if your model stops improving for \"config['early_stop']\" epochs.\n",
        "            break\n",
        "\n",
        "    print('Finished training after {} epochs'.format(epoch))\n",
        "    return min_mse, loss_record"
      ],
      "metadata": {
        "id": "MTh_QSpn3E1o"
      },
      "execution_count": 32,
      "outputs": []
    },
    {
      "cell_type": "code",
      "source": [
        "# validation\n",
        "def dev(dv_set, model, device):\n",
        "    model.eval()                                # set model to evaluation mode\n",
        "    total_loss = 0\n",
        "    for x, y in dv_set:                         # iterate through the dataloader\n",
        "        x, y = x.to(device), y.to(device)       # move data to device (cpu/cuda)\n",
        "        with torch.no_grad():                   # disable gradient calculation\n",
        "            pred = model(x)                     # forward pass (compute output)\n",
        "            mse_loss = model.cal_loss(pred, y)  # compute loss\n",
        "        total_loss += mse_loss.detach().cpu().item() * len(x)  # accumulate loss\n",
        "    total_loss = total_loss / len(dv_set.dataset)              # compute averaged loss\n",
        "\n",
        "    return total_loss"
      ],
      "metadata": {
        "id": "SEiLg3Pz3PwU"
      },
      "execution_count": 33,
      "outputs": []
    },
    {
      "cell_type": "code",
      "source": [
        "# testing\n",
        "def test(tt_set, model, device):\n",
        "    model.eval()                                # set model to evalutation mode\n",
        "    preds = []\n",
        "    for x in tt_set:                            # iterate through the dataloader\n",
        "        x = x.to(device)                        # move data to device (cpu/cuda)\n",
        "        with torch.no_grad():                   # disable gradient calculation\n",
        "            pred = model(x)                     # forward pass (compute output)\n",
        "            preds.append(pred.detach().cpu())   # collect prediction\n",
        "    preds = torch.cat(preds, dim=0).numpy()     # concatenate all predictions and convert to a numpy array\n",
        "    return preds"
      ],
      "metadata": {
        "id": "AZlYw1sN3U5E"
      },
      "execution_count": 34,
      "outputs": []
    },
    {
      "cell_type": "code",
      "source": [
        "# setup hyper parameters\n",
        "device = get_device()                 # get the current available device ('cpu' or 'cuda')\n",
        "os.makedirs('models', exist_ok=True)  # The trained model will be saved to ./models/\n",
        "target_only = True                   # TODO: Using 40 states & 2 tested_positive features\n",
        "\n",
        "# TODO: How to tune these hyper-parameters to improve your model's performance?\n",
        "config = {\n",
        "    'n_epochs': 10000,                # maximum number of epochs\n",
        "    'batch_size': 270,               # mini-batch size for dataloader\n",
        "    'optimizer': 'Adam',              # optimization algorithm (optimizer in torch.optim)\n",
        "    'optim_hparas': {                # hyper-parameters for the optimizer (depends on which optimizer you are using)  \n",
        "        # 'lr': 0.001,                 # learning rate of SGD  \n",
        "        # # 'weight_decay': 0.0001,\n",
        "        # 'momentum': 0.9              # momentum for SGD\n",
        "    },\n",
        "    'early_stop': 200,               # early stopping epochs (the number epochs since your model's last improvement)\n",
        "    'save_path': 'models/model.pth'  # your model will be saved here\n",
        "}"
      ],
      "metadata": {
        "id": "AQWuPX443YnT"
      },
      "execution_count": 35,
      "outputs": []
    },
    {
      "cell_type": "code",
      "source": [
        "# load data and model\n",
        "tr_set = prep_dataloader(tr_path, 'train', config['batch_size'], target_only=target_only)\n",
        "dv_set = prep_dataloader(tr_path, 'dev', config['batch_size'], target_only=target_only)\n",
        "tt_set = prep_dataloader(tt_path, 'test', config['batch_size'], target_only=target_only)"
      ],
      "metadata": {
        "colab": {
          "base_uri": "https://localhost:8080/"
        },
        "id": "xFhN-Q2H3grl",
        "outputId": "78df3e07-f830-44e3-c4f4-ea78f0545354"
      },
      "execution_count": 36,
      "outputs": [
        {
          "output_type": "stream",
          "name": "stdout",
          "text": [
            "Finished reading the train set of COVID19 Dataset (2430 samples found, each dim = 10)\n",
            "Finished reading the dev set of COVID19 Dataset (270 samples found, each dim = 10)\n",
            "Finished reading the test set of COVID19 Dataset (893 samples found, each dim = 10)\n"
          ]
        }
      ]
    },
    {
      "cell_type": "code",
      "source": [
        "model = NeuralNet(tr_set.dataset.dim).to(device)  # Construct model and move to device"
      ],
      "metadata": {
        "id": "DlgsCbLa3nEy"
      },
      "execution_count": 37,
      "outputs": []
    },
    {
      "cell_type": "code",
      "source": [
        "# start training\n",
        "model_loss, model_loss_record = train(tr_set, dv_set, model, config, device)"
      ],
      "metadata": {
        "colab": {
          "base_uri": "https://localhost:8080/"
        },
        "id": "OUW140HN3qft",
        "outputId": "3947dd38-01a5-40b2-b1ff-da97f0c21625"
      },
      "execution_count": 38,
      "outputs": [
        {
          "output_type": "stream",
          "name": "stdout",
          "text": [
            "Saving model (epoch =    1, loss = 64.1686)\n",
            "Saving model (epoch =    2, loss = 16.3406)\n",
            "Saving model (epoch =    3, loss = 7.9455)\n",
            "Saving model (epoch =    5, loss = 7.8251)\n",
            "Saving model (epoch =    6, loss = 6.4699)\n",
            "Saving model (epoch =    7, loss = 5.8908)\n",
            "Saving model (epoch =    8, loss = 5.0939)\n",
            "Saving model (epoch =    9, loss = 4.3965)\n",
            "Saving model (epoch =   10, loss = 3.7916)\n",
            "Saving model (epoch =   11, loss = 3.2967)\n",
            "Saving model (epoch =   12, loss = 2.8764)\n",
            "Saving model (epoch =   13, loss = 2.4906)\n",
            "Saving model (epoch =   14, loss = 2.1771)\n",
            "Saving model (epoch =   15, loss = 1.9156)\n",
            "Saving model (epoch =   16, loss = 1.7080)\n",
            "Saving model (epoch =   17, loss = 1.5490)\n",
            "Saving model (epoch =   18, loss = 1.4270)\n",
            "Saving model (epoch =   19, loss = 1.3364)\n",
            "Saving model (epoch =   20, loss = 1.2842)\n",
            "Saving model (epoch =   21, loss = 1.2481)\n",
            "Saving model (epoch =   22, loss = 1.2081)\n",
            "Saving model (epoch =   24, loss = 1.1796)\n",
            "Saving model (epoch =   26, loss = 1.1673)\n",
            "Saving model (epoch =   27, loss = 1.1650)\n",
            "Saving model (epoch =   29, loss = 1.1539)\n",
            "Saving model (epoch =   32, loss = 1.1472)\n",
            "Saving model (epoch =   34, loss = 1.1391)\n",
            "Saving model (epoch =   35, loss = 1.1390)\n",
            "Saving model (epoch =   36, loss = 1.1378)\n",
            "Saving model (epoch =   37, loss = 1.1295)\n",
            "Saving model (epoch =   39, loss = 1.1250)\n",
            "Saving model (epoch =   40, loss = 1.1182)\n",
            "Saving model (epoch =   43, loss = 1.1103)\n",
            "Saving model (epoch =   44, loss = 1.1088)\n",
            "Saving model (epoch =   45, loss = 1.0980)\n",
            "Saving model (epoch =   49, loss = 1.0912)\n",
            "Saving model (epoch =   50, loss = 1.0876)\n",
            "Saving model (epoch =   53, loss = 1.0748)\n",
            "Saving model (epoch =   54, loss = 1.0671)\n",
            "Saving model (epoch =   56, loss = 1.0609)\n",
            "Saving model (epoch =   57, loss = 1.0576)\n",
            "Saving model (epoch =   60, loss = 1.0540)\n",
            "Saving model (epoch =   61, loss = 1.0463)\n",
            "Saving model (epoch =   64, loss = 1.0369)\n",
            "Saving model (epoch =   67, loss = 1.0353)\n",
            "Saving model (epoch =   68, loss = 1.0325)\n",
            "Saving model (epoch =   70, loss = 1.0254)\n",
            "Saving model (epoch =   71, loss = 1.0188)\n",
            "Saving model (epoch =   72, loss = 1.0142)\n",
            "Saving model (epoch =   75, loss = 1.0099)\n",
            "Saving model (epoch =   77, loss = 1.0030)\n",
            "Saving model (epoch =   82, loss = 0.9904)\n",
            "Saving model (epoch =   83, loss = 0.9875)\n",
            "Saving model (epoch =   87, loss = 0.9789)\n",
            "Saving model (epoch =   88, loss = 0.9764)\n",
            "Saving model (epoch =   92, loss = 0.9687)\n",
            "Saving model (epoch =   93, loss = 0.9670)\n",
            "Saving model (epoch =   95, loss = 0.9668)\n",
            "Saving model (epoch =   96, loss = 0.9662)\n",
            "Saving model (epoch =   97, loss = 0.9624)\n",
            "Saving model (epoch =  100, loss = 0.9584)\n",
            "Saving model (epoch =  101, loss = 0.9508)\n",
            "Saving model (epoch =  105, loss = 0.9507)\n",
            "Saving model (epoch =  106, loss = 0.9421)\n",
            "Saving model (epoch =  112, loss = 0.9398)\n",
            "Saving model (epoch =  113, loss = 0.9347)\n",
            "Saving model (epoch =  114, loss = 0.9311)\n",
            "Saving model (epoch =  119, loss = 0.9208)\n",
            "Saving model (epoch =  121, loss = 0.9201)\n",
            "Saving model (epoch =  123, loss = 0.9184)\n",
            "Saving model (epoch =  126, loss = 0.9146)\n",
            "Saving model (epoch =  129, loss = 0.9072)\n",
            "Saving model (epoch =  131, loss = 0.9068)\n",
            "Saving model (epoch =  132, loss = 0.9054)\n",
            "Saving model (epoch =  134, loss = 0.9017)\n",
            "Saving model (epoch =  142, loss = 0.8982)\n",
            "Saving model (epoch =  143, loss = 0.8919)\n",
            "Saving model (epoch =  144, loss = 0.8899)\n",
            "Saving model (epoch =  148, loss = 0.8862)\n",
            "Saving model (epoch =  157, loss = 0.8783)\n",
            "Saving model (epoch =  159, loss = 0.8763)\n",
            "Saving model (epoch =  160, loss = 0.8761)\n",
            "Saving model (epoch =  162, loss = 0.8747)\n",
            "Saving model (epoch =  165, loss = 0.8711)\n",
            "Saving model (epoch =  170, loss = 0.8692)\n",
            "Saving model (epoch =  173, loss = 0.8671)\n",
            "Saving model (epoch =  174, loss = 0.8651)\n",
            "Saving model (epoch =  175, loss = 0.8646)\n",
            "Saving model (epoch =  180, loss = 0.8613)\n",
            "Saving model (epoch =  184, loss = 0.8605)\n",
            "Saving model (epoch =  200, loss = 0.8530)\n",
            "Saving model (epoch =  205, loss = 0.8479)\n",
            "Saving model (epoch =  208, loss = 0.8465)\n",
            "Saving model (epoch =  209, loss = 0.8461)\n",
            "Saving model (epoch =  210, loss = 0.8455)\n",
            "Saving model (epoch =  219, loss = 0.8415)\n",
            "Saving model (epoch =  221, loss = 0.8410)\n",
            "Saving model (epoch =  235, loss = 0.8398)\n",
            "Saving model (epoch =  237, loss = 0.8390)\n",
            "Saving model (epoch =  242, loss = 0.8366)\n",
            "Saving model (epoch =  246, loss = 0.8339)\n",
            "Saving model (epoch =  247, loss = 0.8328)\n",
            "Saving model (epoch =  258, loss = 0.8290)\n",
            "Saving model (epoch =  259, loss = 0.8285)\n",
            "Saving model (epoch =  269, loss = 0.8264)\n",
            "Saving model (epoch =  271, loss = 0.8262)\n",
            "Saving model (epoch =  288, loss = 0.8247)\n",
            "Saving model (epoch =  292, loss = 0.8231)\n",
            "Saving model (epoch =  293, loss = 0.8220)\n",
            "Saving model (epoch =  295, loss = 0.8218)\n",
            "Saving model (epoch =  296, loss = 0.8218)\n",
            "Saving model (epoch =  300, loss = 0.8217)\n",
            "Saving model (epoch =  304, loss = 0.8207)\n",
            "Saving model (epoch =  308, loss = 0.8204)\n",
            "Saving model (epoch =  322, loss = 0.8198)\n",
            "Saving model (epoch =  330, loss = 0.8192)\n",
            "Saving model (epoch =  331, loss = 0.8190)\n",
            "Saving model (epoch =  336, loss = 0.8189)\n",
            "Saving model (epoch =  337, loss = 0.8177)\n",
            "Saving model (epoch =  351, loss = 0.8163)\n",
            "Saving model (epoch =  360, loss = 0.8159)\n",
            "Saving model (epoch =  365, loss = 0.8156)\n",
            "Saving model (epoch =  367, loss = 0.8154)\n",
            "Saving model (epoch =  369, loss = 0.8151)\n",
            "Saving model (epoch =  373, loss = 0.8151)\n",
            "Saving model (epoch =  383, loss = 0.8147)\n",
            "Saving model (epoch =  391, loss = 0.8144)\n",
            "Saving model (epoch =  402, loss = 0.8135)\n",
            "Saving model (epoch =  406, loss = 0.8135)\n",
            "Saving model (epoch =  407, loss = 0.8132)\n",
            "Saving model (epoch =  424, loss = 0.8122)\n",
            "Saving model (epoch =  438, loss = 0.8116)\n",
            "Saving model (epoch =  455, loss = 0.8110)\n",
            "Saving model (epoch =  486, loss = 0.8105)\n",
            "Saving model (epoch =  510, loss = 0.8097)\n",
            "Saving model (epoch =  511, loss = 0.8093)\n",
            "Saving model (epoch =  534, loss = 0.8091)\n",
            "Saving model (epoch =  536, loss = 0.8089)\n",
            "Saving model (epoch =  541, loss = 0.8087)\n",
            "Saving model (epoch =  549, loss = 0.8084)\n",
            "Saving model (epoch =  596, loss = 0.8076)\n",
            "Saving model (epoch =  646, loss = 0.8073)\n",
            "Saving model (epoch =  720, loss = 0.8066)\n",
            "Saving model (epoch =  773, loss = 0.8065)\n",
            "Saving model (epoch =  858, loss = 0.8061)\n",
            "Saving model (epoch =  987, loss = 0.8056)\n",
            "Saving model (epoch = 1071, loss = 0.8043)\n",
            "Saving model (epoch = 1075, loss = 0.8036)\n",
            "Saving model (epoch = 1144, loss = 0.8033)\n",
            "Saving model (epoch = 1200, loss = 0.8032)\n",
            "Saving model (epoch = 1218, loss = 0.8027)\n",
            "Saving model (epoch = 1237, loss = 0.8017)\n",
            "Saving model (epoch = 1325, loss = 0.8015)\n",
            "Saving model (epoch = 1326, loss = 0.8009)\n",
            "Saving model (epoch = 1504, loss = 0.8002)\n",
            "Finished training after 1705 epochs\n"
          ]
        }
      ]
    },
    {
      "cell_type": "code",
      "source": [
        "# plot learning curve\n",
        "plot_learning_curve(model_loss_record, title='deep model')"
      ],
      "metadata": {
        "colab": {
          "base_uri": "https://localhost:8080/",
          "height": 295
        },
        "id": "ZrAsKjYj32sB",
        "outputId": "8a43bdc4-eb69-43f1-d41b-ef0f7fab0079"
      },
      "execution_count": 39,
      "outputs": [
        {
          "output_type": "display_data",
          "data": {
            "text/plain": [
              "<Figure size 432x288 with 1 Axes>"
            ],
            "image/png": "[encoded data removed]"
          },
          "metadata": {
            "needs_background": "light"
          }
        }
      ]
    },
    {
      "cell_type": "code",
      "source": [
        "del model\n",
        "model = NeuralNet(tr_set.dataset.dim).to(device)\n",
        "ckpt = torch.load(config['save_path'], map_location='cpu')  # Load your best model\n",
        "model.load_state_dict(ckpt)\n",
        "plot_pred(dv_set, model, device)  # Show prediction on the validation set"
      ],
      "metadata": {
        "colab": {
          "base_uri": "https://localhost:8080/",
          "height": 350
        },
        "id": "8RX1PjIg38P6",
        "outputId": "66daf02a-ded7-461b-c04c-bdf453069bee"
      },
      "execution_count": 40,
      "outputs": [
        {
          "output_type": "display_data",
          "data": {
            "text/plain": [
              "<Figure size 360x360 with 1 Axes>"
            ],
            "image/png": "[encoded data removed]"
          },
          "metadata": {
            "needs_background": "light"
          }
        }
      ]
    },
    {
      "cell_type": "code",
      "source": [
        "from datetime import datetime,timezone,timedelta\n",
        "dt1 = datetime.utcnow().replace(tzinfo=timezone.utc)\n",
        "dt2 = dt1.astimezone(timezone(timedelta(hours=8))) # convert time zone\n",
        "# save prediction results\n",
        "def save_pred(preds, file):\n",
        "    ''' Save predictions to specified file '''\n",
        "    print('Saving results to {}'.format(file))\n",
        "    with open(file, 'w') as fp:\n",
        "        writer = csv.writer(fp)\n",
        "        writer.writerow(['id', 'tested_positive'])\n",
        "        for i, p in enumerate(preds):\n",
        "            writer.writerow([i, p])\n",
        "\n",
        "preds = test(tt_set, model, device)  # predict COVID-19 cases with your model\n",
        "filename='hero_hw_01_'+dt2.strftime(\"%Y_%m_%d-%I_%M_%S_%p\")+'.csv'\n",
        "save_pred(preds, filename)         # save prediction file to pred.csv"
      ],
      "metadata": {
        "colab": {
          "base_uri": "https://localhost:8080/"
        },
        "id": "sof9_LYf4CKw",
        "outputId": "3ac93582-60f1-4ceb-e7a0-1e75bac32c55"
      },
      "execution_count": 41,
      "outputs": [
        {
          "output_type": "stream",
          "name": "stdout",
          "text": [
            "Saving results to hero_hw_01_2022_09_06-07_31_25_AM.csv\n"
          ]
        }
      ]
    },
    {
      "cell_type": "code",
      "source": [
        "# Note\n",
        "# 01. pick features\n",
        "# 02. set default hyper_paras\n",
        "# 03. implememt L2 regularization  "
      ],
      "metadata": {
        "id": "Gug2evsh6YjA"
      },
      "execution_count": null,
      "outputs": []
    },
    {
      "cell_type": "code",
      "source": [
        "# Result\n",
        "# hero_hw_01_2022_09_06-07_31_25_AM.csv\n",
        "# Score: 0.88543\n",
        "# Private score: 0.91520"
      ],
      "metadata": {
        "id": "sOEtE0PIA_D6"
      },
      "execution_count": null,
      "outputs": []
    },
    {
      "cell_type": "code",
      "source": [
        "# Ref\n",
        "# 01. sample code: Heng-Jui Chang @ NTUEE (https://github.com/ga642381/ML2021-Spring/blob/main/HW01/HW01.ipynb)\n",
        "# 02. L1, L2 regularization: https://androidkt.com/how-to-add-l1-l2-regularization-in-pytorch-loss-function/\n",
        "# 03. L1, L2 regularization: https://www.cluzters.ai/forums/topic/474/adding-l1-l2-regularization-in-py-torch?c=1597\n"
      ],
      "metadata": {
        "id": "_Ui0oLltVDoR"
      },
      "execution_count": null,
      "outputs": []
    }
  ]
}